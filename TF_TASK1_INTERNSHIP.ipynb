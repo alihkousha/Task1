{
 "cells": [
  {
   "cell_type": "code",
   "execution_count": 1,
   "id": "1ad72180-ea8f-4d23-ad42-2daa4c70be8d",
   "metadata": {},
   "outputs": [],
   "source": [
    "import pandas as pd\n",
    "import os"
   ]
  },
  {
   "cell_type": "code",
   "execution_count": 2,
   "id": "cc969ab7-ab16-4595-9fc8-4ecbfe5a086d",
   "metadata": {},
   "outputs": [],
   "source": [
    "paths = {\n",
    "    'Data' : os.path.join(os.getcwd(),'Data'),\n",
    "    'Notebooks' : os.path.join(os.getcwd(),'notebooks'),\n",
    "    'models' : os.path.join(os.getcwd(),'models')\n",
    "}"
   ]
  },
  {
   "cell_type": "code",
   "execution_count": 3,
   "id": "69f0f020-bfc3-4a3d-88b7-742d450f89fc",
   "metadata": {},
   "outputs": [],
   "source": [
    "df = pd.read_csv(os.path.join(paths['Data'],'amazon_co_ecommerce_sample.csv'))\n",
    "\n",
    "\n",
    "users = pd.DataFrame({'user':df.manufacturer.unique()})\n",
    "users['user_id'] = [i+1 for i in range(users.shape[0])]\n",
    "\n",
    "\n",
    "pro = pd.DataFrame({'product':df.product_name.unique()})\n",
    "pro['product_id'] = [i+1 for i in range(pro.shape[0])]\n",
    "\n",
    "new_df = df.set_index('manufacturer').join(users.set_index('user')).set_index('product_name').join(pro.set_index('product'))"
   ]
  },
  {
   "cell_type": "code",
   "execution_count": 4,
   "id": "96451246-f7a7-4724-9e9b-bbd9aba7dc6e",
   "metadata": {},
   "outputs": [],
   "source": [
    "import tensorflow as tf\n",
    "import numpy as np"
   ]
  },
  {
   "cell_type": "code",
   "execution_count": 5,
   "id": "a688b68b",
   "metadata": {},
   "outputs": [],
   "source": [
    "from typing import Dict,Text"
   ]
  },
  {
   "cell_type": "code",
   "execution_count": 6,
   "id": "0795a1c3",
   "metadata": {},
   "outputs": [],
   "source": [
    "#!pip install -q tensorflow-recommenders\n",
    "import tensorflow_recommenders as tfrs"
   ]
  },
  {
   "cell_type": "code",
   "execution_count": 7,
   "id": "f5af1ef5-7c01-40ed-97d4-d01bcdb2f766",
   "metadata": {},
   "outputs": [],
   "source": [
    "products = list(new_df.index)\n",
    "\n",
    "products = tf.convert_to_tensor(products)\n",
    "\n",
    "products = tf.data.Dataset.from_tensor_slices({\"product_title\" : products})"
   ]
  },
  {
   "cell_type": "code",
   "execution_count": 8,
   "id": "24124d76-6d23-4265-aebf-ea242b254816",
   "metadata": {},
   "outputs": [],
   "source": [
    "user_id = list(new_df.user_id)\n",
    "for x in range(len(user_id)):\n",
    "    user_id[x] = str(user_id[x])\n",
    "user_id = np.array(user_id)\n",
    "sells = tf.data.Dataset.from_tensor_slices(\n",
    "    ({\n",
    "       \"product_title\" : tf.cast(new_df.index.values,tf.string),\n",
    "       \"user_id\" : tf.cast(user_id,tf.string),\n",
    "    })\n",
    ")"
   ]
  },
  {
   "cell_type": "code",
   "execution_count": 9,
   "id": "cabd1100",
   "metadata": {},
   "outputs": [],
   "source": [
    "sells = sells.map(lambda x: {\n",
    "    \"product_title\": x[\"product_title\"],\n",
    "    \"user_id\": x[\"user_id\"],\n",
    "})\n",
    "products = products.map(lambda x: x[\"product_title\"])"
   ]
  },
  {
   "cell_type": "code",
   "execution_count": 10,
   "id": "b7b40d54",
   "metadata": {},
   "outputs": [],
   "source": [
    "tf.random.set_seed(42)\n",
    "shuffled = sells.shuffle(100, seed=42, reshuffle_each_iteration=False)\n",
    "\n",
    "train = shuffled.take(80)\n",
    "test = shuffled.skip(80).take(20)"
   ]
  },
  {
   "cell_type": "code",
   "execution_count": 11,
   "id": "a497de41",
   "metadata": {},
   "outputs": [],
   "source": [
    "product_titles = products.batch(1_000)\n",
    "user_ids = sells.batch(1_000_000).map(lambda x: x[\"user_id\"])\n",
    "\n",
    "\n",
    "unique_product_titles = np.unique(np.concatenate(list(product_titles)))\n",
    "unique_user_ids = np.unique(np.concatenate(list(user_ids)))"
   ]
  },
  {
   "cell_type": "code",
   "execution_count": 12,
   "id": "35d5b866",
   "metadata": {},
   "outputs": [],
   "source": [
    "embedding_dimension = 32"
   ]
  },
  {
   "cell_type": "code",
   "execution_count": 13,
   "id": "f6771f21",
   "metadata": {},
   "outputs": [],
   "source": [
    "user_model = tf.keras.Sequential([\n",
    "  tf.keras.layers.StringLookup(\n",
    "      vocabulary=unique_user_ids, mask_token=None),\n",
    "  tf.keras.layers.Embedding(len(unique_user_ids) + 1, embedding_dimension)\n",
    "])"
   ]
  },
  {
   "cell_type": "code",
   "execution_count": 14,
   "id": "8718021f",
   "metadata": {},
   "outputs": [],
   "source": [
    "product_model = tf.keras.Sequential([\n",
    "  tf.keras.layers.StringLookup(\n",
    "      vocabulary=unique_product_titles, mask_token=None),\n",
    "  tf.keras.layers.Embedding(len(unique_product_titles) + 1, embedding_dimension)\n",
    "])"
   ]
  },
  {
   "cell_type": "code",
   "execution_count": 15,
   "id": "d493b0fe",
   "metadata": {},
   "outputs": [],
   "source": [
    "metrics = tfrs.metrics.FactorizedTopK(\n",
    "  candidates=products.batch(128).map(product_model)\n",
    ")"
   ]
  },
  {
   "cell_type": "code",
   "execution_count": 16,
   "id": "0daee5c5",
   "metadata": {},
   "outputs": [],
   "source": [
    "task = tfrs.tasks.Retrieval(\n",
    "  metrics=metrics\n",
    ")"
   ]
  },
  {
   "cell_type": "code",
   "execution_count": 17,
   "id": "2d3bcbe2",
   "metadata": {},
   "outputs": [],
   "source": [
    "class RecommendationSystemModel(tfrs.Model):\n",
    "\n",
    "  def __init__(self, user_model, product_model):\n",
    "    super().__init__()\n",
    "    self.product_model: tf.keras.Model = product_model\n",
    "    self.user_model: tf.keras.Model = user_model\n",
    "    self.task: tf.keras.layers.Layer = task\n",
    "\n",
    "  def compute_loss(self, features: Dict[Text, tf.Tensor], training=False) -> tf.Tensor:\n",
    "    user_embeddings = self.user_model(features[\"user_id\"])\n",
    "    positive_product_embeddings = self.product_model(features[\"product_title\"])\n",
    "    return self.task(user_embeddings, positive_product_embeddings)"
   ]
  },
  {
   "cell_type": "code",
   "execution_count": 18,
   "id": "3dca7065",
   "metadata": {},
   "outputs": [],
   "source": [
    "model = RecommendationSystemModel(user_model, product_model)\n",
    "model.compile(optimizer=tf.keras.optimizers.Adagrad(learning_rate=0.1))"
   ]
  },
  {
   "cell_type": "code",
   "execution_count": 19,
   "id": "69340848",
   "metadata": {},
   "outputs": [],
   "source": [
    "cached_train = train.shuffle(100_000).batch(8192).cache()\n",
    "cached_test = test.batch(1024).cache()"
   ]
  },
  {
   "cell_type": "code",
   "execution_count": 20,
   "id": "abecdf0e",
   "metadata": {},
   "outputs": [
    {
     "name": "stdout",
     "output_type": "stream",
     "text": [
      "Epoch 1/3\n",
      "1/1 [==============================] - 2s 2s/step - factorized_top_k/top_1_categorical_accuracy: 0.0000e+00 - factorized_top_k/top_5_categorical_accuracy: 0.0000e+00 - factorized_top_k/top_10_categorical_accuracy: 0.0000e+00 - factorized_top_k/top_50_categorical_accuracy: 0.0125 - factorized_top_k/top_100_categorical_accuracy: 0.0125 - loss: 350.6025 - regularization_loss: 0.0000e+00 - total_loss: 350.6025\n",
      "Epoch 2/3\n",
      "1/1 [==============================] - 0s 153ms/step - factorized_top_k/top_1_categorical_accuracy: 0.0000e+00 - factorized_top_k/top_5_categorical_accuracy: 0.3125 - factorized_top_k/top_10_categorical_accuracy: 0.3375 - factorized_top_k/top_50_categorical_accuracy: 0.6250 - factorized_top_k/top_100_categorical_accuracy: 0.7250 - loss: 349.3648 - regularization_loss: 0.0000e+00 - total_loss: 349.3648\n",
      "Epoch 3/3\n",
      "1/1 [==============================] - 0s 143ms/step - factorized_top_k/top_1_categorical_accuracy: 0.0000e+00 - factorized_top_k/top_5_categorical_accuracy: 0.8375 - factorized_top_k/top_10_categorical_accuracy: 0.9750 - factorized_top_k/top_50_categorical_accuracy: 0.9875 - factorized_top_k/top_100_categorical_accuracy: 0.9875 - loss: 347.6427 - regularization_loss: 0.0000e+00 - total_loss: 347.6427\n"
     ]
    },
    {
     "data": {
      "text/plain": [
       "<keras.callbacks.History at 0x2389a4670a0>"
      ]
     },
     "execution_count": 20,
     "metadata": {},
     "output_type": "execute_result"
    }
   ],
   "source": [
    "model.fit(cached_train, epochs=3)"
   ]
  },
  {
   "cell_type": "code",
   "execution_count": 21,
   "id": "352df59e",
   "metadata": {},
   "outputs": [
    {
     "name": "stdout",
     "output_type": "stream",
     "text": [
      "1/1 [==============================] - 0s 430ms/step - factorized_top_k/top_1_categorical_accuracy: 0.0000e+00 - factorized_top_k/top_5_categorical_accuracy: 0.0000e+00 - factorized_top_k/top_10_categorical_accuracy: 0.0000e+00 - factorized_top_k/top_50_categorical_accuracy: 0.0000e+00 - factorized_top_k/top_100_categorical_accuracy: 0.0000e+00 - loss: 59.9141 - regularization_loss: 0.0000e+00 - total_loss: 59.9141\n"
     ]
    },
    {
     "data": {
      "text/plain": [
       "{'factorized_top_k/top_1_categorical_accuracy': 0.0,\n",
       " 'factorized_top_k/top_5_categorical_accuracy': 0.0,\n",
       " 'factorized_top_k/top_10_categorical_accuracy': 0.0,\n",
       " 'factorized_top_k/top_50_categorical_accuracy': 0.0,\n",
       " 'factorized_top_k/top_100_categorical_accuracy': 0.0,\n",
       " 'loss': 59.91405487060547,\n",
       " 'regularization_loss': 0,\n",
       " 'total_loss': 59.91405487060547}"
      ]
     },
     "execution_count": 21,
     "metadata": {},
     "output_type": "execute_result"
    }
   ],
   "source": [
    "model.evaluate(cached_test, return_dict=True)"
   ]
  },
  {
   "cell_type": "code",
   "execution_count": 26,
   "id": "b182b2a2",
   "metadata": {},
   "outputs": [
    {
     "name": "stdout",
     "output_type": "stream",
     "text": [
      "Recommendations for user 42: [b'Smart Games Castle Logix Puzzle Game'\n",
      " b'10 pieces Tibetan Silver Sun Alloy Charm Pendants - A0037'\n",
      " b'Paul Lamond 4-in-1 Room on the Broom Puzzle']\n"
     ]
    }
   ],
   "source": [
    "index = tfrs.layers.factorized_top_k.BruteForce(model.user_model)\n",
    "\n",
    "index.index_from_dataset(\n",
    "  tf.data.Dataset.zip((products.batch(100), products.batch(100).map(model.product_model)))\n",
    ")\n",
    "\n",
    "\n",
    "_, titles = index(tf.constant([\"42\"]))\n",
    "print(f\"Recommendations for user 42: {titles[0, :3]}\")"
   ]
  },
  {
   "cell_type": "code",
   "execution_count": null,
   "id": "f5251cb1",
   "metadata": {},
   "outputs": [],
   "source": []
  }
 ],
 "metadata": {
  "kernelspec": {
   "display_name": "Python 3 (ipykernel)",
   "language": "python",
   "name": "python3"
  },
  "language_info": {
   "codemirror_mode": {
    "name": "ipython",
    "version": 3
   },
   "file_extension": ".py",
   "mimetype": "text/x-python",
   "name": "python",
   "nbconvert_exporter": "python",
   "pygments_lexer": "ipython3",
   "version": "3.8.10"
  }
 },
 "nbformat": 4,
 "nbformat_minor": 5
}
