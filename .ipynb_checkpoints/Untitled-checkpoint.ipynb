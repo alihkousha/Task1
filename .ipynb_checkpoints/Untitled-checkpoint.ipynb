{
 "cells": [
  {
   "cell_type": "code",
   "execution_count": 1,
   "id": "1ad72180-ea8f-4d23-ad42-2daa4c70be8d",
   "metadata": {},
   "outputs": [],
   "source": [
    "import pandas as pd\n",
    "import os"
   ]
  },
  {
   "cell_type": "code",
   "execution_count": 2,
   "id": "cc969ab7-ab16-4595-9fc8-4ecbfe5a086d",
   "metadata": {},
   "outputs": [],
   "source": [
    "paths = {\n",
    "    'Data' : os.path.join(os.getcwd(),'Data'),\n",
    "    'Notebooks' : os.path.join(os.getcwd(),'notebooks'),\n",
    "    'models' : os.path.join(os.getcwd(),'models')\n",
    "}"
   ]
  },
  {
   "cell_type": "code",
   "execution_count": 3,
   "id": "69f0f020-bfc3-4a3d-88b7-742d450f89fc",
   "metadata": {},
   "outputs": [],
   "source": [
    "df = pd.read_csv(os.path.join(paths['Data'],'amazon_co_ecommerce_sample.csv'))\n",
    "\n",
    "\n",
    "users = pd.DataFrame({'user':df.manufacturer.unique()})\n",
    "users['user_id'] = [i+1 for i in range(users.shape[0])]\n",
    "\n",
    "\n",
    "pro = pd.DataFrame({'product':df.product_name.unique()})\n",
    "pro['product_id'] = [i+1 for i in range(pro.shape[0])]\n",
    "\n",
    "new_df = df.set_index('manufacturer').join(users.set_index('user')).set_index('product_name').join(pro.set_index('product'))"
   ]
  },
  {
   "cell_type": "code",
   "execution_count": 4,
   "id": "96451246-f7a7-4724-9e9b-bbd9aba7dc6e",
   "metadata": {},
   "outputs": [],
   "source": [
    "import tensorflow as tf\n",
    "import numpy as np"
   ]
  },
  {
   "cell_type": "code",
   "execution_count": 5,
   "id": "5765be5d",
   "metadata": {},
   "outputs": [],
   "source": [
    "from typing import Dict,Text"
   ]
  },
  {
   "cell_type": "code",
   "execution_count": 6,
   "id": "937da270",
   "metadata": {},
   "outputs": [],
   "source": [
    "#!pip install -q tensorflow-recommenders\n",
    "import tensorflow_recommenders as tfrs"
   ]
  },
  {
   "cell_type": "code",
   "execution_count": 7,
   "id": "f5af1ef5-7c01-40ed-97d4-d01bcdb2f766",
   "metadata": {},
   "outputs": [],
   "source": [
    "products = list(new_df.index)\n",
    "\n",
    "products = tf.convert_to_tensor(products)\n",
    "\n",
    "products = tf.data.Dataset.from_tensor_slices({\"product_title\" : products})"
   ]
  },
  {
   "cell_type": "code",
   "execution_count": 8,
   "id": "24124d76-6d23-4265-aebf-ea242b254816",
   "metadata": {},
   "outputs": [],
   "source": [
    "user_id = list(new_df.user_id)\n",
    "for x in range(len(user_id)):\n",
    "    user_id[x] = str(user_id[x])\n",
    "user_id = np.array(user_id)\n",
    "sells = tf.data.Dataset.from_tensor_slices(\n",
    "    ({\n",
    "       \"product_title\" : tf.cast(new_df.index.values,tf.string),\n",
    "       \"user_id\" : tf.cast(user_id,tf.string),\n",
    "    })\n",
    ")"
   ]
  },
  {
   "cell_type": "code",
   "execution_count": 9,
   "id": "ddb42eca",
   "metadata": {},
   "outputs": [],
   "source": [
    "sells = sells.map(lambda x: {\n",
    "    \"product_title\": x[\"product_title\"],\n",
    "    \"user_id\": x[\"user_id\"],\n",
    "})\n",
    "products = products.map(lambda x: x[\"product_title\"])"
   ]
  },
  {
   "cell_type": "code",
   "execution_count": 10,
   "id": "23bbc75f",
   "metadata": {},
   "outputs": [],
   "source": [
    "tf.random.set_seed(42)\n",
    "shuffled = sells.shuffle(100_000, seed=42, reshuffle_each_iteration=False)\n",
    "\n",
    "train = shuffled.take(80_000)\n",
    "test = shuffled.skip(80_000).take(20_000)"
   ]
  },
  {
   "cell_type": "code",
   "execution_count": 11,
   "id": "2fcd7cc3",
   "metadata": {},
   "outputs": [],
   "source": [
    "product_titles = products.batch(1_000)\n",
    "user_ids = sells.batch(1_000_000).map(lambda x: x[\"user_id\"])\n",
    "\n",
    "\n",
    "unique_product_titles = np.unique(np.concatenate(list(product_titles)))\n",
    "unique_user_ids = np.unique(np.concatenate(list(user_ids)))"
   ]
  },
  {
   "cell_type": "code",
   "execution_count": 12,
   "id": "5ee5acd4",
   "metadata": {},
   "outputs": [],
   "source": [
    "embedding_dimension = 32"
   ]
  },
  {
   "cell_type": "code",
   "execution_count": 13,
   "id": "00e47e16",
   "metadata": {},
   "outputs": [],
   "source": [
    "user_model = tf.keras.Sequential([\n",
    "  tf.keras.layers.StringLookup(\n",
    "      vocabulary=unique_user_ids, mask_token=None),\n",
    "  tf.keras.layers.Embedding(len(unique_user_ids) + 1, embedding_dimension)\n",
    "])"
   ]
  },
  {
   "cell_type": "code",
   "execution_count": 14,
   "id": "125ab8c3",
   "metadata": {},
   "outputs": [],
   "source": [
    "product_model = tf.keras.Sequential([\n",
    "  tf.keras.layers.StringLookup(\n",
    "      vocabulary=unique_product_titles, mask_token=None),\n",
    "  tf.keras.layers.Embedding(len(unique_product_titles) + 1, embedding_dimension)\n",
    "])"
   ]
  },
  {
   "cell_type": "code",
   "execution_count": 15,
   "id": "5e953687",
   "metadata": {},
   "outputs": [],
   "source": [
    "metrics = tfrs.metrics.FactorizedTopK(\n",
    "  candidates=products.batch(128).map(product_model)\n",
    ")"
   ]
  },
  {
   "cell_type": "code",
   "execution_count": 16,
   "id": "571261a8",
   "metadata": {},
   "outputs": [],
   "source": [
    "task = tfrs.tasks.Retrieval(\n",
    "  metrics=metrics\n",
    ")"
   ]
  },
  {
   "cell_type": "code",
   "execution_count": 17,
   "id": "1d4767c0",
   "metadata": {},
   "outputs": [],
   "source": [
    "class RecommendationSystemModel(tfrs.Model):\n",
    "\n",
    "  def __init__(self, user_model, product_model):\n",
    "    super().__init__()\n",
    "    self.product_model: tf.keras.Model = product_model\n",
    "    self.user_model: tf.keras.Model = user_model\n",
    "    self.task: tf.keras.layers.Layer = task\n",
    "\n",
    "  def compute_loss(self, features: Dict[Text, tf.Tensor], training=False) -> tf.Tensor:\n",
    "    user_embeddings = self.user_model(features[\"user_id\"])\n",
    "    positive_product_embeddings = self.product_model(features[\"product_title\"])\n",
    "    return self.task(user_embeddings, positive_product_embeddings)"
   ]
  },
  {
   "cell_type": "code",
   "execution_count": 18,
   "id": "bdef37d0",
   "metadata": {},
   "outputs": [],
   "source": [
    "model = RecommendationSystemModel(user_model, product_model)\n",
    "model.compile(optimizer=tf.keras.optimizers.Adagrad(learning_rate=0.1))"
   ]
  },
  {
   "cell_type": "code",
   "execution_count": 19,
   "id": "a9ebd6ce",
   "metadata": {},
   "outputs": [],
   "source": [
    "cached_train = train.shuffle(100_000).batch(8192).cache()\n",
    "cached_test = test.batch(1024).cache()"
   ]
  },
  {
   "cell_type": "code",
   "execution_count": 20,
   "id": "2c8b6842",
   "metadata": {},
   "outputs": [
    {
     "name": "stdout",
     "output_type": "stream",
     "text": [
      "Epoch 1/3\n",
      "2/2 [==============================] - 6s 839ms/step - factorized_top_k/top_1_categorical_accuracy: 0.0000e+00 - factorized_top_k/top_5_categorical_accuracy: 4.0000e-04 - factorized_top_k/top_10_categorical_accuracy: 9.0000e-04 - factorized_top_k/top_50_categorical_accuracy: 0.0034 - factorized_top_k/top_100_categorical_accuracy: 0.0073 - loss: 33645.7786 - regularization_loss: 0.0000e+00 - total_loss: 33645.7786\n",
      "Epoch 2/3\n",
      "2/2 [==============================] - 4s 841ms/step - factorized_top_k/top_1_categorical_accuracy: 0.0000e+00 - factorized_top_k/top_5_categorical_accuracy: 0.0348 - factorized_top_k/top_10_categorical_accuracy: 0.0677 - factorized_top_k/top_50_categorical_accuracy: 0.2181 - factorized_top_k/top_100_categorical_accuracy: 0.3230 - loss: 33556.6452 - regularization_loss: 0.0000e+00 - total_loss: 33556.6452\n",
      "Epoch 3/3\n",
      "2/2 [==============================] - 4s 838ms/step - factorized_top_k/top_1_categorical_accuracy: 0.0000e+00 - factorized_top_k/top_5_categorical_accuracy: 0.0422 - factorized_top_k/top_10_categorical_accuracy: 0.0877 - factorized_top_k/top_50_categorical_accuracy: 0.3705 - factorized_top_k/top_100_categorical_accuracy: 0.5882 - loss: 33220.0814 - regularization_loss: 0.0000e+00 - total_loss: 33220.0814\n"
     ]
    },
    {
     "data": {
      "text/plain": [
       "<keras.callbacks.History at 0x17ae0bc72b0>"
      ]
     },
     "execution_count": 20,
     "metadata": {},
     "output_type": "execute_result"
    }
   ],
   "source": [
    "model.fit(cached_train, epochs=3)"
   ]
  },
  {
   "cell_type": "code",
   "execution_count": 21,
   "id": "131a1c9f",
   "metadata": {},
   "outputs": [
    {
     "name": "stderr",
     "output_type": "stream",
     "text": [
      "D:\\Users\\Ali\\AppData\\Local\\Programs\\Python\\Python38\\lib\\site-packages\\keras\\utils\\generic_utils.py:923: RuntimeWarning: divide by zero encountered in log10\n",
      "  numdigits = int(np.log10(self.target)) + 1\n"
     ]
    },
    {
     "ename": "OverflowError",
     "evalue": "cannot convert float infinity to integer",
     "output_type": "error",
     "traceback": [
      "\u001b[1;31m---------------------------------------------------------------------------\u001b[0m",
      "\u001b[1;31mOverflowError\u001b[0m                             Traceback (most recent call last)",
      "Input \u001b[1;32mIn [21]\u001b[0m, in \u001b[0;36m<module>\u001b[1;34m\u001b[0m\n\u001b[1;32m----> 1\u001b[0m \u001b[43mmodel\u001b[49m\u001b[38;5;241;43m.\u001b[39;49m\u001b[43mevaluate\u001b[49m\u001b[43m(\u001b[49m\u001b[43mcached_test\u001b[49m\u001b[43m,\u001b[49m\u001b[43m \u001b[49m\u001b[43mreturn_dict\u001b[49m\u001b[38;5;241;43m=\u001b[39;49m\u001b[38;5;28;43;01mTrue\u001b[39;49;00m\u001b[43m)\u001b[49m\n",
      "File \u001b[1;32mD:\\Users\\Ali\\AppData\\Local\\Programs\\Python\\Python38\\lib\\site-packages\\keras\\utils\\traceback_utils.py:67\u001b[0m, in \u001b[0;36mfilter_traceback.<locals>.error_handler\u001b[1;34m(*args, **kwargs)\u001b[0m\n\u001b[0;32m     65\u001b[0m \u001b[38;5;28;01mexcept\u001b[39;00m \u001b[38;5;167;01mException\u001b[39;00m \u001b[38;5;28;01mas\u001b[39;00m e:  \u001b[38;5;66;03m# pylint: disable=broad-except\u001b[39;00m\n\u001b[0;32m     66\u001b[0m   filtered_tb \u001b[38;5;241m=\u001b[39m _process_traceback_frames(e\u001b[38;5;241m.\u001b[39m__traceback__)\n\u001b[1;32m---> 67\u001b[0m   \u001b[38;5;28;01mraise\u001b[39;00m e\u001b[38;5;241m.\u001b[39mwith_traceback(filtered_tb) \u001b[38;5;28;01mfrom\u001b[39;00m \u001b[38;5;28mNone\u001b[39m\n\u001b[0;32m     68\u001b[0m \u001b[38;5;28;01mfinally\u001b[39;00m:\n\u001b[0;32m     69\u001b[0m   \u001b[38;5;28;01mdel\u001b[39;00m filtered_tb\n",
      "File \u001b[1;32mD:\\Users\\Ali\\AppData\\Local\\Programs\\Python\\Python38\\lib\\site-packages\\keras\\utils\\generic_utils.py:923\u001b[0m, in \u001b[0;36mProgbar.update\u001b[1;34m(self, current, values, finalize)\u001b[0m\n\u001b[0;32m    920\u001b[0m   message \u001b[38;5;241m+\u001b[39m\u001b[38;5;241m=\u001b[39m \u001b[38;5;124m'\u001b[39m\u001b[38;5;130;01m\\n\u001b[39;00m\u001b[38;5;124m'\u001b[39m\n\u001b[0;32m    922\u001b[0m \u001b[38;5;28;01mif\u001b[39;00m \u001b[38;5;28mself\u001b[39m\u001b[38;5;241m.\u001b[39mtarget \u001b[38;5;129;01mis\u001b[39;00m \u001b[38;5;129;01mnot\u001b[39;00m \u001b[38;5;28;01mNone\u001b[39;00m:\n\u001b[1;32m--> 923\u001b[0m   numdigits \u001b[38;5;241m=\u001b[39m \u001b[38;5;28;43mint\u001b[39;49m\u001b[43m(\u001b[49m\u001b[43mnp\u001b[49m\u001b[38;5;241;43m.\u001b[39;49m\u001b[43mlog10\u001b[49m\u001b[43m(\u001b[49m\u001b[38;5;28;43mself\u001b[39;49m\u001b[38;5;241;43m.\u001b[39;49m\u001b[43mtarget\u001b[49m\u001b[43m)\u001b[49m\u001b[43m)\u001b[49m \u001b[38;5;241m+\u001b[39m \u001b[38;5;241m1\u001b[39m\n\u001b[0;32m    924\u001b[0m   bar \u001b[38;5;241m=\u001b[39m (\u001b[38;5;124m'\u001b[39m\u001b[38;5;124m%\u001b[39m\u001b[38;5;124m'\u001b[39m \u001b[38;5;241m+\u001b[39m \u001b[38;5;28mstr\u001b[39m(numdigits) \u001b[38;5;241m+\u001b[39m \u001b[38;5;124m'\u001b[39m\u001b[38;5;124md/\u001b[39m\u001b[38;5;132;01m%d\u001b[39;00m\u001b[38;5;124m [\u001b[39m\u001b[38;5;124m'\u001b[39m) \u001b[38;5;241m%\u001b[39m (current, \u001b[38;5;28mself\u001b[39m\u001b[38;5;241m.\u001b[39mtarget)\n\u001b[0;32m    925\u001b[0m   prog \u001b[38;5;241m=\u001b[39m \u001b[38;5;28mfloat\u001b[39m(current) \u001b[38;5;241m/\u001b[39m \u001b[38;5;28mself\u001b[39m\u001b[38;5;241m.\u001b[39mtarget\n",
      "\u001b[1;31mOverflowError\u001b[0m: cannot convert float infinity to integer"
     ]
    }
   ],
   "source": [
    "model.evaluate(cached_test, return_dict=True)"
   ]
  },
  {
   "cell_type": "code",
   "execution_count": null,
   "id": "3942a7c7",
   "metadata": {},
   "outputs": [],
   "source": []
  }
 ],
 "metadata": {
  "kernelspec": {
   "display_name": "Python 3 (ipykernel)",
   "language": "python",
   "name": "python3"
  },
  "language_info": {
   "codemirror_mode": {
    "name": "ipython",
    "version": 3
   },
   "file_extension": ".py",
   "mimetype": "text/x-python",
   "name": "python",
   "nbconvert_exporter": "python",
   "pygments_lexer": "ipython3",
   "version": "3.8.10"
  }
 },
 "nbformat": 4,
 "nbformat_minor": 5
}
